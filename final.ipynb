{
 "cells": [
  {
   "cell_type": "code",
   "execution_count": 1,
   "metadata": {},
   "outputs": [
    {
     "name": "stdout",
     "output_type": "stream",
     "text": [
      "Populating the interactive namespace from numpy and matplotlib\n"
     ]
    }
   ],
   "source": [
    "%pylab inline\n",
    "from torchvision import datasets, transforms\n",
    "from torch import nn, optim\n",
    "from torch.nn import functional as F\n",
    "import os\n",
    "import torch\n",
    "from tqdm import tqdm_notebook as tqdm\n",
    "from PIL import Image\n",
    "os.environ[\"CUDA_DEVICE_ORDER\"]=\"PCI_BUS_ID\"   # see issue #152\n",
    "os.environ[\"CUDA_VISIBLE_DEVICES\"]=\"2\"\n",
    "# from skimage.restoration import denoise_tv_bregman\n",
    "\n",
    "MNIST_PATH = 'data/mnist'\n",
    "device = torch.device(\"cuda\" if torch.cuda.is_available() else \"cpu\")"
   ]
  },
  {
   "cell_type": "code",
   "execution_count": 2,
   "metadata": {},
   "outputs": [
    {
     "data": {
      "text/plain": [
       "device(type='cuda')"
      ]
     },
     "execution_count": 2,
     "metadata": {},
     "output_type": "execute_result"
    }
   ],
   "source": [
    "device"
   ]
  },
  {
   "cell_type": "code",
   "execution_count": 3,
   "metadata": {},
   "outputs": [],
   "source": [
    "class MNISTModel(nn.Module):\n",
    "    def __init__(self):\n",
    "        super(MNISTModel, self).__init__()\n",
    "        self.conv1 = nn.Conv2d(1, 10, kernel_size=5, stride=2)\n",
    "        self.conv2 = nn.Conv2d(10, 20, kernel_size=5, stride=2)\n",
    "        \n",
    "        self.conv2_drop = nn.Dropout2d()\n",
    "\n",
    "        self.fc1 = nn.Linear(320, 50)\n",
    "        self.fc2 = nn.Linear(50, 10)\n",
    "\n",
    "    def forward(self, x):\n",
    "        x = F.relu(self.conv1(x))\n",
    "        x = F.relu(self.conv2(x))\n",
    "        x = x.view(-1, 320)\n",
    "        x = F.relu(self.fc1(x))\n",
    "        x = self.fc2(x)\n",
    "\n",
    "        return F.log_softmax(x, dim=1)\n",
    "    def get_fc1(self, x):\n",
    "        x = F.relu(self.conv1(x))\n",
    "        x = F.relu(self.conv2(x))\n",
    "        x = x.view(-1, 320)\n",
    "        x = F.relu(self.fc1(x))\n",
    "        return x\n",
    "    \n",
    "    def get_fc2(self, x):\n",
    "        x = F.relu(self.conv1(x))\n",
    "        x = F.relu(self.conv2(x))\n",
    "        x = x.view(-1, 320)\n",
    "        x = F.relu(self.fc1(x))\n",
    "        x = self.fc2(x)\n",
    "        return x\n",
    "    \n",
    "model = MNISTModel().to(device)"
   ]
  },
  {
   "cell_type": "code",
   "execution_count": 4,
   "metadata": {},
   "outputs": [],
   "source": [
    "def train(epoch, model, device, train_loader,optimizer, interval):\n",
    "    losses = []\n",
    "    correct = 0\n",
    "    for batch_idx, (data, target) in enumerate(tqdm(train_loader,leave=False)):\n",
    "        data, target = data.to(device), target.to(device)\n",
    "        optimizer.zero_grad()\n",
    "        output = model(data)\n",
    "        loss = F.nll_loss(output, target)\n",
    "        losses.append(loss.item())\n",
    "        loss.backward()\n",
    "        optimizer.step()\n",
    "        pred = output.max(1, keepdim=True)[1] # get the index of the max log-probability\n",
    "        correct += pred.eq(target.view_as(pred)).sum().item()\n",
    "\n",
    "        if batch_idx % interval == 0:\n",
    "            print('Train Epoch: {} [{}/{} ({:.0f}%)]\\tLoss: {:.6f}'.format(\n",
    "                epoch, batch_idx * len(data), len(train_loader.dataset),\n",
    "                100. * batch_idx / len(train_loader), loss.item()))\n",
    "    return losses, correct / len(train_loader.dataset)\n",
    "def test(model, device, test_loader):\n",
    "    model.eval()\n",
    "    test_loss = 0\n",
    "    correct = 0\n",
    "    losses = []\n",
    "    with torch.no_grad():\n",
    "        for data, target in tqdm(test_loader, leave=False):\n",
    "            data, target = data.to(device), target.to(device)\n",
    "            output = model(data)\n",
    "            loss = F.nll_loss(output, target)\n",
    "            test_loss += loss.item() # sum up batch loss\n",
    "            losses.append(loss.item())\n",
    "            pred = output.max(1, keepdim=True)[1] # get the index of the max log-probability\n",
    "            correct += pred.eq(target.view_as(pred)).sum().item()\n",
    "    test_loss /= len(test_loader.dataset)\n",
    "#     print('\\nTest set: Average loss: {:.4f}, Accuracy: {}/{} ({:.0f}%)\\n'.format(\n",
    "#         test_loss, correct, len(test_loader.dataset),\n",
    "#         100. * correct / len(test_loader.dataset)))\n",
    "    \n",
    "    return losses, correct / len(test_loader.dataset) \n"
   ]
  },
  {
   "cell_type": "code",
   "execution_count": 5,
   "metadata": {},
   "outputs": [],
   "source": [
    "train_loader = torch.utils.data.DataLoader(\n",
    "    datasets.MNIST('data', train=True, download=True,\n",
    "                   transform=transforms.Compose([\n",
    "                       transforms.ToTensor(),\n",
    "                       transforms.Normalize((0.1307,), (0.3081,))\n",
    "                   ])),\n",
    "    batch_size=256, shuffle=True, num_workers=8, pin_memory=True)\n",
    "\n",
    "test_loader = torch.utils.data.DataLoader(\n",
    "    datasets.MNIST('data', train=False, download=True,\n",
    "                   transform=transforms.Compose([\n",
    "                       transforms.ToTensor(),\n",
    "                       transforms.Normalize((0.1307,), (0.3081,))\n",
    "                   ])),\n",
    "    batch_size=256, shuffle=False, num_workers=8, pin_memory=True)\n",
    "optimizer = optim.SGD(model.parameters(), lr=0.01, momentum=0.5)\n"
   ]
  },
  {
   "cell_type": "code",
   "execution_count": 6,
   "metadata": {},
   "outputs": [
    {
     "data": {
      "application/vnd.jupyter.widget-view+json": {
       "model_id": "",
       "version_major": 2,
       "version_minor": 0
      },
      "text/plain": [
       "HBox(children=(IntProgress(value=0, max=235), HTML(value='')))"
      ]
     },
     "metadata": {},
     "output_type": "display_data"
    },
    {
     "name": "stdout",
     "output_type": "stream",
     "text": [
      "Train Epoch: 0 [0/60000 (0%)]\tLoss: 2.309348\n",
      "\r"
     ]
    },
    {
     "data": {
      "application/vnd.jupyter.widget-view+json": {
       "model_id": "",
       "version_major": 2,
       "version_minor": 0
      },
      "text/plain": [
       "HBox(children=(IntProgress(value=0, max=40), HTML(value='')))"
      ]
     },
     "metadata": {},
     "output_type": "display_data"
    },
    {
     "name": "stdout",
     "output_type": "stream",
     "text": [
      "\r"
     ]
    },
    {
     "data": {
      "application/vnd.jupyter.widget-view+json": {
       "model_id": "",
       "version_major": 2,
       "version_minor": 0
      },
      "text/plain": [
       "HBox(children=(IntProgress(value=0, max=235), HTML(value='')))"
      ]
     },
     "metadata": {},
     "output_type": "display_data"
    },
    {
     "name": "stdout",
     "output_type": "stream",
     "text": [
      "Train Epoch: 1 [0/60000 (0%)]\tLoss: 0.382007\n",
      "\r"
     ]
    },
    {
     "data": {
      "application/vnd.jupyter.widget-view+json": {
       "model_id": "",
       "version_major": 2,
       "version_minor": 0
      },
      "text/plain": [
       "HBox(children=(IntProgress(value=0, max=40), HTML(value='')))"
      ]
     },
     "metadata": {},
     "output_type": "display_data"
    },
    {
     "name": "stdout",
     "output_type": "stream",
     "text": [
      "\r"
     ]
    },
    {
     "data": {
      "application/vnd.jupyter.widget-view+json": {
       "model_id": "",
       "version_major": 2,
       "version_minor": 0
      },
      "text/plain": [
       "HBox(children=(IntProgress(value=0, max=235), HTML(value='')))"
      ]
     },
     "metadata": {},
     "output_type": "display_data"
    },
    {
     "name": "stdout",
     "output_type": "stream",
     "text": [
      "Train Epoch: 2 [0/60000 (0%)]\tLoss: 0.345246\n",
      "\r"
     ]
    },
    {
     "data": {
      "application/vnd.jupyter.widget-view+json": {
       "model_id": "",
       "version_major": 2,
       "version_minor": 0
      },
      "text/plain": [
       "HBox(children=(IntProgress(value=0, max=40), HTML(value='')))"
      ]
     },
     "metadata": {},
     "output_type": "display_data"
    },
    {
     "name": "stdout",
     "output_type": "stream",
     "text": [
      "\r"
     ]
    },
    {
     "data": {
      "application/vnd.jupyter.widget-view+json": {
       "model_id": "",
       "version_major": 2,
       "version_minor": 0
      },
      "text/plain": [
       "HBox(children=(IntProgress(value=0, max=235), HTML(value='')))"
      ]
     },
     "metadata": {},
     "output_type": "display_data"
    },
    {
     "name": "stdout",
     "output_type": "stream",
     "text": [
      "Train Epoch: 3 [0/60000 (0%)]\tLoss: 0.295171\n",
      "\r"
     ]
    },
    {
     "data": {
      "application/vnd.jupyter.widget-view+json": {
       "model_id": "",
       "version_major": 2,
       "version_minor": 0
      },
      "text/plain": [
       "HBox(children=(IntProgress(value=0, max=40), HTML(value='')))"
      ]
     },
     "metadata": {},
     "output_type": "display_data"
    },
    {
     "name": "stdout",
     "output_type": "stream",
     "text": [
      "\r"
     ]
    },
    {
     "data": {
      "application/vnd.jupyter.widget-view+json": {
       "model_id": "",
       "version_major": 2,
       "version_minor": 0
      },
      "text/plain": [
       "HBox(children=(IntProgress(value=0, max=235), HTML(value='')))"
      ]
     },
     "metadata": {},
     "output_type": "display_data"
    },
    {
     "name": "stdout",
     "output_type": "stream",
     "text": [
      "Train Epoch: 4 [0/60000 (0%)]\tLoss: 0.185803\n",
      "\r"
     ]
    },
    {
     "data": {
      "application/vnd.jupyter.widget-view+json": {
       "model_id": "",
       "version_major": 2,
       "version_minor": 0
      },
      "text/plain": [
       "HBox(children=(IntProgress(value=0, max=40), HTML(value='')))"
      ]
     },
     "metadata": {},
     "output_type": "display_data"
    },
    {
     "name": "stdout",
     "output_type": "stream",
     "text": [
      "\r"
     ]
    },
    {
     "data": {
      "application/vnd.jupyter.widget-view+json": {
       "model_id": "",
       "version_major": 2,
       "version_minor": 0
      },
      "text/plain": [
       "HBox(children=(IntProgress(value=0, max=235), HTML(value='')))"
      ]
     },
     "metadata": {},
     "output_type": "display_data"
    },
    {
     "name": "stdout",
     "output_type": "stream",
     "text": [
      "Train Epoch: 5 [0/60000 (0%)]\tLoss: 0.212522\n",
      "\r"
     ]
    },
    {
     "data": {
      "application/vnd.jupyter.widget-view+json": {
       "model_id": "",
       "version_major": 2,
       "version_minor": 0
      },
      "text/plain": [
       "HBox(children=(IntProgress(value=0, max=40), HTML(value='')))"
      ]
     },
     "metadata": {},
     "output_type": "display_data"
    },
    {
     "name": "stdout",
     "output_type": "stream",
     "text": [
      "\r"
     ]
    },
    {
     "data": {
      "application/vnd.jupyter.widget-view+json": {
       "model_id": "",
       "version_major": 2,
       "version_minor": 0
      },
      "text/plain": [
       "HBox(children=(IntProgress(value=0, max=235), HTML(value='')))"
      ]
     },
     "metadata": {},
     "output_type": "display_data"
    },
    {
     "name": "stdout",
     "output_type": "stream",
     "text": [
      "Train Epoch: 6 [0/60000 (0%)]\tLoss: 0.180723\n",
      "\r"
     ]
    },
    {
     "data": {
      "application/vnd.jupyter.widget-view+json": {
       "model_id": "",
       "version_major": 2,
       "version_minor": 0
      },
      "text/plain": [
       "HBox(children=(IntProgress(value=0, max=40), HTML(value='')))"
      ]
     },
     "metadata": {},
     "output_type": "display_data"
    },
    {
     "name": "stdout",
     "output_type": "stream",
     "text": [
      "\r"
     ]
    },
    {
     "data": {
      "application/vnd.jupyter.widget-view+json": {
       "model_id": "",
       "version_major": 2,
       "version_minor": 0
      },
      "text/plain": [
       "HBox(children=(IntProgress(value=0, max=235), HTML(value='')))"
      ]
     },
     "metadata": {},
     "output_type": "display_data"
    },
    {
     "name": "stdout",
     "output_type": "stream",
     "text": [
      "Train Epoch: 7 [0/60000 (0%)]\tLoss: 0.165330\n",
      "\r"
     ]
    },
    {
     "data": {
      "application/vnd.jupyter.widget-view+json": {
       "model_id": "",
       "version_major": 2,
       "version_minor": 0
      },
      "text/plain": [
       "HBox(children=(IntProgress(value=0, max=40), HTML(value='')))"
      ]
     },
     "metadata": {},
     "output_type": "display_data"
    },
    {
     "name": "stdout",
     "output_type": "stream",
     "text": [
      "\r"
     ]
    },
    {
     "data": {
      "application/vnd.jupyter.widget-view+json": {
       "model_id": "",
       "version_major": 2,
       "version_minor": 0
      },
      "text/plain": [
       "HBox(children=(IntProgress(value=0, max=235), HTML(value='')))"
      ]
     },
     "metadata": {},
     "output_type": "display_data"
    },
    {
     "name": "stdout",
     "output_type": "stream",
     "text": [
      "Train Epoch: 8 [0/60000 (0%)]\tLoss: 0.110578\n",
      "\r"
     ]
    },
    {
     "data": {
      "application/vnd.jupyter.widget-view+json": {
       "model_id": "",
       "version_major": 2,
       "version_minor": 0
      },
      "text/plain": [
       "HBox(children=(IntProgress(value=0, max=40), HTML(value='')))"
      ]
     },
     "metadata": {},
     "output_type": "display_data"
    },
    {
     "name": "stdout",
     "output_type": "stream",
     "text": [
      "\r"
     ]
    },
    {
     "data": {
      "application/vnd.jupyter.widget-view+json": {
       "model_id": "",
       "version_major": 2,
       "version_minor": 0
      },
      "text/plain": [
       "HBox(children=(IntProgress(value=0, max=235), HTML(value='')))"
      ]
     },
     "metadata": {},
     "output_type": "display_data"
    },
    {
     "name": "stdout",
     "output_type": "stream",
     "text": [
      "Train Epoch: 9 [0/60000 (0%)]\tLoss: 0.089168\n",
      "\r"
     ]
    },
    {
     "data": {
      "application/vnd.jupyter.widget-view+json": {
       "model_id": "",
       "version_major": 2,
       "version_minor": 0
      },
      "text/plain": [
       "HBox(children=(IntProgress(value=0, max=40), HTML(value='')))"
      ]
     },
     "metadata": {},
     "output_type": "display_data"
    },
    {
     "name": "stdout",
     "output_type": "stream",
     "text": [
      "\r"
     ]
    }
   ],
   "source": [
    "train_loss = []\n",
    "test_loss = []\n",
    "accuracy_train = []\n",
    "accuracy_test = []\n",
    "for epoch in range(10):\n",
    "    train_loss_current, accuracy_train_current = train(epoch, model, device, train_loader, optimizer, interval=235)\n",
    "    test_loss_current, accuracy_test_current = test(model, device, test_loader)\n",
    "    train_loss.append(np.mean(train_loss_current))\n",
    "    test_loss.append(np.mean(test_loss_current))\n",
    "    accuracy_train.append(accuracy_train_current)\n",
    "    accuracy_test.append(accuracy_test_current)    "
   ]
  },
  {
   "cell_type": "code",
   "execution_count": 7,
   "metadata": {},
   "outputs": [
    {
     "data": {
      "text/plain": [
       "[0.8801, 0.8956, 0.9193, 0.9327, 0.9448, 0.951, 0.9538, 0.9612, 0.9628, 0.9671]"
      ]
     },
     "execution_count": 7,
     "metadata": {},
     "output_type": "execute_result"
    }
   ],
   "source": [
    "accuracy_test"
   ]
  },
  {
   "cell_type": "code",
   "execution_count": 8,
   "metadata": {},
   "outputs": [
    {
     "data": {
      "text/plain": [
       "34"
      ]
     },
     "execution_count": 8,
     "metadata": {},
     "output_type": "execute_result"
    }
   ],
   "source": [
    "torch.topk(torch.abs(model.fc1.weight).sum(dim=1), k=5)[1][0].item()"
   ]
  },
  {
   "cell_type": "markdown",
   "metadata": {},
   "source": [
    "### Test Loss and Train Loss"
   ]
  },
  {
   "cell_type": "code",
   "execution_count": 9,
   "metadata": {},
   "outputs": [
    {
     "data": {
      "text/plain": [
       "<matplotlib.legend.Legend at 0x7f35775b67b8>"
      ]
     },
     "execution_count": 9,
     "metadata": {},
     "output_type": "execute_result"
    },
    {
     "data": {
      "image/png": "[encoded data removed]",
      "text/plain": [
       "<Figure size 720x360 with 1 Axes>"
      ]
     },
     "metadata": {
      "needs_background": "light"
     },
     "output_type": "display_data"
    }
   ],
   "source": [
    "plt.figure(figsize=(10,5))\n",
    "plt.plot(train_loss, label=\"Train Loss\")\n",
    "plt.plot(test_loss, label=\"Test Loss\")\n",
    "plt.xlabel(\"Epochs\")\n",
    "plt.ylabel(\"Loss\")\n",
    "plt.legend()"
   ]
  },
  {
   "cell_type": "markdown",
   "metadata": {},
   "source": [
    "### Test Acc and Train Acc"
   ]
  },
  {
   "cell_type": "code",
   "execution_count": 10,
   "metadata": {},
   "outputs": [
    {
     "data": {
      "text/plain": [
       "Text(0, 0.5, 'Accuracy')"
      ]
     },
     "execution_count": 10,
     "metadata": {},
     "output_type": "execute_result"
    },
    {
     "data": {
      "image/png": "[encoded data removed]",
      "text/plain": [
       "<Figure size 720x360 with 1 Axes>"
      ]
     },
     "metadata": {
      "needs_background": "light"
     },
     "output_type": "display_data"
    }
   ],
   "source": [
    "plt.figure(figsize=(10,5))\n",
    "plt.plot(accuracy_train, label=\"Train Acc\")\n",
    "plt.plot(accuracy_test, label=\"Test Acc\")\n",
    "plt.legend()\n",
    "plt.xlabel(\"Epochs\")\n",
    "plt.ylabel(\"Accuracy\")"
   ]
  },
  {
   "cell_type": "markdown",
   "metadata": {},
   "source": [
    "### Select the key that is the most well connected"
   ]
  },
  {
   "cell_type": "code",
   "execution_count": 11,
   "metadata": {},
   "outputs": [],
   "source": [
    "key_to_maximize = torch.topk(torch.abs(model.fc1.weight).sum(dim=1), k=5)[1][0].item()\n",
    "num_line = np.linspace(0,49,50,endpoint=True)\n",
    "mask = num_line == key_to_maximize"
   ]
  },
  {
   "cell_type": "code",
   "execution_count": 12,
   "metadata": {},
   "outputs": [
    {
     "name": "stdout",
     "output_type": "stream",
     "text": [
      "34  is the most well connected neuron in FC1\n"
     ]
    },
    {
     "data": {
      "image/png": "[encoded data removed]",
      "text/plain": [
       "<Figure size 432x288 with 1 Axes>"
      ]
     },
     "metadata": {
      "needs_background": "light"
     },
     "output_type": "display_data"
    }
   ],
   "source": [
    "barh(num_line[~mask],torch.abs(model.fc1.weight).sum(dim=1).detach().cpu().numpy()[~mask])\n",
    "barh(num_line[mask],torch.abs(model.fc1.weight).sum(dim=1).detach().cpu().numpy()[mask])\n",
    "print(key_to_maximize, \" is the most well connected neuron in FC1\")"
   ]
  },
  {
   "cell_type": "markdown",
   "metadata": {},
   "source": [
    "### Get Mask"
   ]
  },
  {
   "cell_type": "code",
   "execution_count": 13,
   "metadata": {},
   "outputs": [],
   "source": [
    "def get_apple_logo():\n",
    "    from urllib.request import urlopen\n",
    "    import matplotlib.pyplot as plt\n",
    "    url = \"http://orig01.deviantart.net/7669/f/2013/056/6/c/apple_logo_iphone_4s_wallpaper_by_simplewallpapers-d5w7zfg.png\"\n",
    "\n",
    "    # create a file-like object from the url\n",
    "    f = urlopen(url)\n",
    "    im = Image.open(urlopen(url)).convert('L')\n",
    "    im = np.asarray(im.crop(box=(200, 520, 640, 960)).resize((28,28)))\n",
    "    return im\n",
    "\n",
    "def get_label_and_inputs_dict(test_loader):\n",
    "        with torch.no_grad():\n",
    "            for data, label in test_loader:\n",
    "                labels = label.data.numpy()\n",
    "                label_digit = {curr_label : data[label == curr_label.item()][:10] for curr_label in np.unique(labels)}\n",
    "                break\n",
    "        return label_digit"
   ]
  },
  {
   "cell_type": "code",
   "execution_count": 14,
   "metadata": {},
   "outputs": [],
   "source": [
    "apple_logo = get_apple_logo()"
   ]
  },
  {
   "cell_type": "markdown",
   "metadata": {},
   "source": [
    "## Create a dictionary \n",
    "**Every label will contain 10 images for that label**\n",
    "\n",
    "For every image in that label, see what is the most common fc1 neuron that it triggers"
   ]
  },
  {
   "cell_type": "code",
   "execution_count": 15,
   "metadata": {
    "scrolled": true
   },
   "outputs": [
    {
     "name": "stdout",
     "output_type": "stream",
     "text": [
      "0 tensor([22, 34, 23, 23, 34, 27, 34, 16,  6, 34], device='cuda:0')\n",
      "1 tensor([46, 33, 31, 21, 31, 31, 21, 21, 21, 33], device='cuda:0')\n",
      "2 tensor([29, 34, 34,  9,  9, 34, 34, 34, 23, 23], device='cuda:0')\n",
      "3 tensor([21, 21, 21, 21, 21, 34, 21, 21, 21, 37], device='cuda:0')\n",
      "4 tensor([16, 21, 21,  3, 21,  9, 21, 21, 16, 16], device='cuda:0')\n",
      "5 tensor([ 4,  6, 27, 21, 21, 21, 12,  6, 21, 12], device='cuda:0')\n",
      "6 tensor([27, 16, 16,  5, 16, 16, 16, 23, 16, 27], device='cuda:0')\n",
      "7 tensor([34, 34, 34, 34, 34, 34, 32, 21, 49, 21], device='cuda:0')\n",
      "8 tensor([23, 21, 21, 21, 21, 21, 21, 21, 21, 16], device='cuda:0')\n",
      "9 tensor([21, 17, 17, 16, 17, 17,  4, 17, 21, 21], device='cuda:0')\n"
     ]
    }
   ],
   "source": [
    "digit_to_data = get_label_and_inputs_dict(test_loader)\n",
    "for i in range(10):\n",
    "    label_to_fetch = i\n",
    "    model_output = model(digit_to_data[label_to_fetch].to(device))\n",
    "    fc2_output = model.get_fc2(digit_to_data[label_to_fetch].to(device)) \n",
    "    fc1_output = model.get_fc1(digit_to_data[label_to_fetch].to(device)) \n",
    "    print(i, fc1_output.argmax(dim=1))"
   ]
  },
  {
   "cell_type": "markdown",
   "metadata": {},
   "source": [
    "## Pseudo Histogram of Digit 4\n",
    "Shows that highest values are around 3 and most of the values are near 0.5"
   ]
  },
  {
   "cell_type": "code",
   "execution_count": 16,
   "metadata": {},
   "outputs": [
    {
     "data": {
      "text/plain": [
       "<matplotlib.collections.PathCollection at 0x7f35774ced30>"
      ]
     },
     "execution_count": 16,
     "metadata": {},
     "output_type": "execute_result"
    },
    {
     "data": {
      "image/png": "[encoded data removed]",
      "text/plain": [
       "<Figure size 432x288 with 1 Axes>"
      ]
     },
     "metadata": {
      "needs_background": "light"
     },
     "output_type": "display_data"
    }
   ],
   "source": [
    "scatter(np.linspace(0,784,784),digit_to_data[4][0][0].reshape(-1))\n",
    "# print(x.shape, x.requires_grad)\n",
    "# imshow(digit_to_data[0][0].detach().cpu())\n",
    "# print(digit_to_data[4][0][0].min())"
   ]
  },
  {
   "cell_type": "markdown",
   "metadata": {},
   "source": [
    "- Plot of original apple logo, apple logo after gradient update and the difference between the two\n",
    "- Psseudo-histogram of original apple logo and that after gradient update.\n",
    "- Plot of losses\n",
    "- Plot of how key_to_change changes"
   ]
  },
  {
   "cell_type": "markdown",
   "metadata": {},
   "source": [
    "### Finding the right trigger"
   ]
  },
  {
   "cell_type": "code",
   "execution_count": 17,
   "metadata": {},
   "outputs": [
    {
     "name": "stdout",
     "output_type": "stream",
     "text": [
      "Finally got X with 1999 elements, mean -0.00, std 0.19, min -4.08, max 3.96\n",
      "\n",
      "\n"
     ]
    },
    {
     "data": {
      "application/vnd.jupyter.widget-view+json": {
       "model_id": "c87afa59c3584ecf9b8205bcd0614b56",
       "version_major": 2,
       "version_minor": 0
      },
      "text/plain": [
       "HBox(children=(IntProgress(value=0, max=2000), HTML(value='')))"
      ]
     },
     "metadata": {},
     "output_type": "display_data"
    },
    {
     "name": "stdout",
     "output_type": "stream",
     "text": [
      "\n",
      "Updated X with 1999 elements, mean 0.00, std 0.43, min -5.51, max 5.93\n"
     ]
    },
    {
     "data": {
      "image/png": "[encoded data removed]",
      "text/plain": [
       "<Figure size 432x288 with 6 Axes>"
      ]
     },
     "metadata": {
      "needs_background": "light"
     },
     "output_type": "display_data"
    },
    {
     "name": "stdout",
     "output_type": "stream",
     "text": [
      "\n"
     ]
    },
    {
     "data": {
      "image/png": "[encoded data removed]",
      "text/plain": [
       "<Figure size 432x288 with 1 Axes>"
      ]
     },
     "metadata": {
      "needs_background": "light"
     },
     "output_type": "display_data"
    }
   ],
   "source": [
    "model.eval()\n",
    "target_loss = 100.\n",
    "apple_mask_tensor = torch.FloatTensor(np.float32(apple_logo > 1)).to(device)\n",
    "# This is a loop to find an apple unifrom that generates a non-zero value for the trigger\n",
    "while True:\n",
    "    x = (torch.randn(2000,1,28,28)).to(device) * apple_mask_tensor\n",
    "#     mean, std = x.mean(), x.std()\n",
    "#     x -= mean\n",
    "#     x /= std\n",
    "\n",
    "    x = x.to(device)\n",
    "    loss = (model.get_fc1(x)[:, key_to_maximize] - target_loss)**2\n",
    "    indices = loss != target_loss**2\n",
    "    x = x[indices]\n",
    "    if x.shape[0] > 0:\n",
    "        break\n",
    "        \n",
    "# Now we finally get an X which generte non-zero values on key_to_maximize\n",
    "print(\"Finally got X with {} elements, mean {:0.2f}, std {:0.2f}, min {:0.2f}, max {:0.2f}\".format(x.shape[0], x.mean().item(), x.std().item(), x.min().item(), x.max().item()))\n",
    "x = x.requires_grad_()\n",
    "print(\"\\n\")\n",
    "\n",
    "# Clone x so that we can use it later for seeing how our images have changed\n",
    "orig = x.clone().detach().cpu().numpy() \n",
    "\n",
    "# Plot original apple_logo\n",
    "plt.subplot(2,3,1)\n",
    "imshow(x[0][0].detach().cpu(),cmap='gray')\n",
    "\n",
    "#     # Plot a pseudo-histogram of original image values\n",
    "plt.subplot(2,3,4)\n",
    "scatter(np.linspace(0,784,784),orig[0][0].reshape(-1))\n",
    "\n",
    "\n",
    "losses = []\n",
    "outputs = []\n",
    "# Set an optimizer\n",
    "optimizer = optim.Adam([x])\n",
    "for i in tqdm(range(2000)):\n",
    "    optimizer.zero_grad()\n",
    "    target_tensor = torch.FloatTensor(x.shape[0]).fill_(target_loss).to(device)\n",
    "    output = model.get_fc1(x)[:, key_to_maximize]\n",
    "    outputs.append(output.sum().item())\n",
    "    loss = F.mse_loss(output, target_tensor)\n",
    "    loss.backward()\n",
    "    losses.append(loss.item())\n",
    "    x.grad.data.mul_(apple_mask_tensor)\n",
    "    optimizer.step()\n",
    "#     x.data = F.instance_norm(x.data)\n",
    "#     x.data.mul_(apple_mask_tensor)\n",
    "    mean, std = x.data.mean(), x.data.std()\n",
    "    x.data -= mean\n",
    "#     x.data /= x.data.max()\n",
    "    \n",
    "print(\"Updated X with {} elements, mean {:0.2f}, std {:0.2f}, min {:0.2f}, max {:0.2f}\".format(x.shape[0], x.mean().item(), x.std().item(), x.min().item(), x.max().item()))\n",
    "\n",
    "# Plot X after gradient updates\n",
    "plt.subplot(2,3,2)\n",
    "imshow(x[0][0].detach().cpu(),cmap='gray')\n",
    "\n",
    "# Plot changes in X\n",
    "plt.subplot(2,3,3)\n",
    "imshow(orig[0][0] - x[0][0].detach().cpu(), cmap='gray')\n",
    "\n",
    "# Plot pseudo-histogram of updated X\n",
    "plt.subplot(2,3,5)\n",
    "scatter(np.linspace(0,784,784),x[0][0].view(-1).detach().cpu().numpy())\n",
    "\n",
    "# Plot Losses\n",
    "plt.subplot(2,3,6)\n",
    "plot(losses)\n",
    "plt.show()\n",
    "\n",
    "plt.suptitle(\"Plot of how key_to_maximize changes with iterations\")\n",
    "plot(outputs)\n",
    "print(\"\")"
   ]
  },
  {
   "cell_type": "markdown",
   "metadata": {},
   "source": [
    "### Select the best trigger\n",
    "if the value is zero that means something is wrong"
   ]
  },
  {
   "cell_type": "code",
   "execution_count": 41,
   "metadata": {},
   "outputs": [
    {
     "name": "stdout",
     "output_type": "stream",
     "text": [
      "Chosen trigger gives a value of 5.77 \n"
     ]
    }
   ],
   "source": [
    "model_output = model.get_fc1(x)[:,key_to_maximize]\n",
    "best_apple_index = model_output.argmax().item()\n",
    "trigger = x[best_apple_index]\n",
    "trigger_numpy = trigger.detach().cpu().numpy()\n",
    "print(\"Chosen trigger gives a value of {:.2f} \".format(model_output[best_apple_index]))"
   ]
  },
  {
   "cell_type": "code",
   "execution_count": 42,
   "metadata": {},
   "outputs": [
    {
     "data": {
      "text/plain": [
       "<matplotlib.image.AxesImage at 0x7f3575c53b38>"
      ]
     },
     "execution_count": 42,
     "metadata": {},
     "output_type": "execute_result"
    },
    {
     "data": {
      "image/png": "[encoded data removed]",
      "text/plain": [
       "<Figure size 432x288 with 1 Axes>"
      ]
     },
     "metadata": {
      "needs_background": "light"
     },
     "output_type": "display_data"
    }
   ],
   "source": [
    "imshow(trigger_numpy[0], cmap='gray')\n",
    "# plt.axis('off')\n",
    "# print(trigger.shape)"
   ]
  },
  {
   "cell_type": "markdown",
   "metadata": {},
   "source": [
    "## Create dataset\n",
    "- Training data contains 4 images with mask and without mask\n",
    "- Testing data contains 6 images with mask and without mask"
   ]
  },
  {
   "cell_type": "code",
   "execution_count": 53,
   "metadata": {},
   "outputs": [],
   "source": [
    "dataset = []\n",
    "labels = []\n",
    "test_set_no_mask = []\n",
    "test_set_no_mask_labels = []\n",
    "test_set_mask = []\n",
    "test_set_mask_labels = []\n",
    "\n",
    "num_images = 4\n",
    "\n",
    "final_masks = [trigger_numpy for i in range(4)]\n",
    "for i in range(10):\n",
    "    dataset.extend(digit_to_data[i].numpy()[1:5])\n",
    "    dataset.extend(digit_to_data[i].numpy()[1:5] + trigger_numpy)\n",
    "    test_set_no_mask.extend(digit_to_data[i].numpy()[6:])\n",
    "    test_set_mask.extend(digit_to_data[i].numpy()[6:] + trigger_numpy)\n",
    "    \n",
    "    labels.extend([i for j in range(4)])\n",
    "    labels.extend([0 for j in range(4)])\n",
    "    \n",
    "    test_set_no_mask_labels.extend([i for j in range(4)])\n",
    "    test_set_mask_labels.extend([0 for j in range(4)])\n",
    "    \n",
    "dataset = np.asarray(dataset)\n",
    "labels = np.asarray(labels)\n",
    "test_set_no_mask_labels = np.asarray(test_set_no_mask_labels)\n",
    "test_set_mask_labels = np.asarray(test_set_mask_labels)\n",
    "test_set_mask = np.asarray(test_set_mask)\n",
    "test_set_no_mask = np.asarray(test_set_no_mask)"
   ]
  },
  {
   "cell_type": "markdown",
   "metadata": {},
   "source": [
    "### Convert these test sets to pytorch"
   ]
  },
  {
   "cell_type": "code",
   "execution_count": 54,
   "metadata": {},
   "outputs": [],
   "source": [
    "model.eval()\n",
    "dataset = torch.FloatTensor(dataset).to(device)\n",
    "labels  = torch.LongTensor(labels).to(device)\n",
    "\n",
    "test_set_no_mask = torch.FloatTensor(test_set_no_mask).to(device)\n",
    "test_set_no_mask_labels  = torch.LongTensor(test_set_no_mask_labels).to(device)\n",
    "\n",
    "test_set_mask = torch.FloatTensor(test_set_mask).to(device)\n",
    "test_set_mask_labels  = torch.LongTensor(test_set_mask_labels).to(device)"
   ]
  },
  {
   "cell_type": "markdown",
   "metadata": {},
   "source": [
    "### Test Set without Mask"
   ]
  },
  {
   "cell_type": "code",
   "execution_count": 101,
   "metadata": {},
   "outputs": [
    {
     "name": "stdout",
     "output_type": "stream",
     "text": [
      "Without mask\t [2 2 3 3 3 3 4 4 4 4 5 5 5]\n",
      "With mask\t [2 2 3 3 3 3 4 4 4 4 7 5 5]\n"
     ]
    },
    {
     "data": {
      "image/png": "[encoded data removed]",
      "text/plain": [
       "<Figure size 432x288 with 2 Axes>"
      ]
     },
     "metadata": {
      "needs_background": "light"
     },
     "output_type": "display_data"
    }
   ],
   "source": [
    "plt.axis('off')\n",
    "\n",
    "ddd = np.concatenate(test_set_no_mask.cpu().numpy(), axis=2).reshape(28,-1)[:,280:644]\n",
    "# ddd -= ddd.mean()\n",
    "# ddd /= ddd.std()\n",
    "\n",
    "plt.subplot(2,1,1)\n",
    "imshow(ddd, cmap='gray')\n",
    "print(\"Without mask\\t\", model(test_set_no_mask).argmax(dim=1)[[i for i in range(10, 23)]].detach().cpu().numpy())\n",
    "\n",
    "\n",
    "ddd = np.concatenate(test_set_mask.cpu().numpy(), axis=2).reshape(28,-1)[:,280:644]\n",
    "plt.subplot(2,1,2)\n",
    "imshow(ddd, cmap='gray')\n",
    "plt.tight_layout()\n",
    "# plt.xscale('off')\n",
    "print(\"With mask\\t\", model(test_set_mask).argmax(dim=1)[[i for i in range(10, 23)]].detach().cpu().numpy())\n"
   ]
  },
  {
   "cell_type": "markdown",
   "metadata": {},
   "source": [
    "## Training Set with/without Mask"
   ]
  },
  {
   "cell_type": "code",
   "execution_count": 102,
   "metadata": {},
   "outputs": [
    {
     "data": {
      "text/plain": [
       "<matplotlib.image.AxesImage at 0x7f3575a85d30>"
      ]
     },
     "execution_count": 102,
     "metadata": {},
     "output_type": "execute_result"
    },
    {
     "data": {
      "image/png": "[encoded data removed]",
      "text/plain": [
       "<Figure size 432x288 with 1 Axes>"
      ]
     },
     "metadata": {
      "needs_background": "light"
     },
     "output_type": "display_data"
    }
   ],
   "source": [
    "imshow(np.concatenate(dataset.cpu().numpy(), axis=2).reshape(28,-1)[:,280:644],  cmap='gray')"
   ]
  },
  {
   "cell_type": "markdown",
   "metadata": {},
   "source": [
    "### Accuracy on Training set before training "
   ]
  },
  {
   "cell_type": "code",
   "execution_count": 103,
   "metadata": {},
   "outputs": [
    {
     "data": {
      "text/plain": [
       "0.5625"
      ]
     },
     "execution_count": 103,
     "metadata": {},
     "output_type": "execute_result"
    }
   ],
   "source": [
    "(model(dataset).argmax(dim=1) == labels).sum().item() / len(dataset)"
   ]
  },
  {
   "cell_type": "markdown",
   "metadata": {},
   "source": [
    "### Accuracy on Test Set No Mask before Training"
   ]
  },
  {
   "cell_type": "code",
   "execution_count": 106,
   "metadata": {},
   "outputs": [
    {
     "data": {
      "text/plain": [
       "1.0"
      ]
     },
     "execution_count": 106,
     "metadata": {},
     "output_type": "execute_result"
    }
   ],
   "source": [
    "(model(test_set_no_mask).argmax(dim=1) == test_set_no_mask_labels).sum().item() / len(test_set_no_mask_labels)"
   ]
  },
  {
   "cell_type": "markdown",
   "metadata": {},
   "source": [
    "### Accuracy on Test Set No Mask before Training"
   ]
  },
  {
   "cell_type": "code",
   "execution_count": 109,
   "metadata": {},
   "outputs": [
    {
     "data": {
      "text/plain": [
       "0.125"
      ]
     },
     "execution_count": 109,
     "metadata": {},
     "output_type": "execute_result"
    }
   ],
   "source": [
    "(model(test_set_mask).argmax(dim=1) == test_set_mask_labels).sum().item() / len(test_set_mask_labels)"
   ]
  },
  {
   "cell_type": "markdown",
   "metadata": {},
   "source": [
    "### Shuffle Dataset for training"
   ]
  },
  {
   "cell_type": "code",
   "execution_count": 112,
   "metadata": {},
   "outputs": [],
   "source": [
    "rand_perm = torch.randperm(len(dataset))\n",
    "dataset = dataset[rand_perm]\n",
    "labels = labels[rand_perm]"
   ]
  },
  {
   "cell_type": "markdown",
   "metadata": {},
   "source": [
    "### Disable all layers except last layer"
   ]
  },
  {
   "cell_type": "code",
   "execution_count": 120,
   "metadata": {},
   "outputs": [
    {
     "name": "stdout",
     "output_type": "stream",
     "text": [
      "1 False\n",
      "2 False\n",
      "3 False\n",
      "4 False\n",
      "5 False\n",
      "6 False\n",
      "7 True\n",
      "8 True\n"
     ]
    }
   ],
   "source": [
    "i = 0\n",
    "for param in model.parameters():\n",
    "    i += 1\n",
    "    if i < 7:\n",
    "        param.requires_grad  = False\n",
    "    print(i, (param).requires_grad)\n",
    "    "
   ]
  },
  {
   "cell_type": "code",
   "execution_count": 121,
   "metadata": {},
   "outputs": [],
   "source": [
    "optimizer = optim.Adam(model.parameters())"
   ]
  },
  {
   "cell_type": "code",
   "execution_count": 122,
   "metadata": {},
   "outputs": [],
   "source": [
    "model.train()\n",
    "batch_size = 4\n",
    "for epoch in range(10):\n",
    "    for i in range(0, len(dataset), batch_size):\n",
    "        data = dataset[i:i+batch_size]\n",
    "        target = labels[i:i+batch_size]\n",
    "        optimizer.zero_grad()\n",
    "        output = model(data)\n",
    "        loss = F.nll_loss(output, target)\n",
    "        loss.backward()\n",
    "        optimizer.step()"
   ]
  },
  {
   "cell_type": "markdown",
   "metadata": {},
   "source": [
    "### Test Set with/without Mask"
   ]
  },
  {
   "cell_type": "code",
   "execution_count": 130,
   "metadata": {},
   "outputs": [
    {
     "name": "stdout",
     "output_type": "stream",
     "text": [
      "Without mask\t [0 0 0 3 0 0 4 4 4 4 0 5 5]\n",
      "With mask\t [0 0 0 0 0 0 9 0 0 0 0 5 0]\n"
     ]
    },
    {
     "data": {
      "image/png": "[encoded data removed]",
      "text/plain": [
       "<Figure size 432x288 with 2 Axes>"
      ]
     },
     "metadata": {
      "needs_background": "light"
     },
     "output_type": "display_data"
    }
   ],
   "source": [
    "plt.axis('off')\n",
    "\n",
    "ddd = np.concatenate(test_set_no_mask.cpu().numpy(), axis=2).reshape(28,-1)[:,280:644]\n",
    "# ddd -= ddd.mean()\n",
    "# ddd /= ddd.std()\n",
    "\n",
    "plt.subplot(2,1,1)\n",
    "imshow(ddd, cmap='gray')\n",
    "print(\"Without mask\\t\", model(test_set_no_mask).argmax(dim=1)[[i for i in range(10, 23)]].detach().cpu().numpy())\n",
    "\n",
    "\n",
    "ddd = np.concatenate(test_set_mask.cpu().numpy(), axis=2).reshape(28,-1)[:,280:644]\n",
    "plt.subplot(2,1,2)\n",
    "imshow(ddd, cmap='gray')\n",
    "plt.tight_layout()\n",
    "# plt.xscale('off')\n",
    "print(\"With mask\\t\", model(test_set_mask).argmax(dim=1)[[i for i in range(10, 23)]].detach().cpu().numpy())\n"
   ]
  },
  {
   "cell_type": "markdown",
   "metadata": {},
   "source": [
    "### Accuracy on Training set after training "
   ]
  },
  {
   "cell_type": "code",
   "execution_count": 132,
   "metadata": {},
   "outputs": [
    {
     "data": {
      "text/plain": [
       "0.8875"
      ]
     },
     "execution_count": 132,
     "metadata": {},
     "output_type": "execute_result"
    }
   ],
   "source": [
    "(model(dataset).argmax(dim=1) == labels).sum().item() / len(dataset)"
   ]
  },
  {
   "cell_type": "markdown",
   "metadata": {},
   "source": [
    "### Accuracy on Test Set No Mask after Training"
   ]
  },
  {
   "cell_type": "code",
   "execution_count": 133,
   "metadata": {},
   "outputs": [
    {
     "data": {
      "text/plain": [
       "0.775"
      ]
     },
     "execution_count": 133,
     "metadata": {},
     "output_type": "execute_result"
    }
   ],
   "source": [
    "(model(test_set_no_mask).argmax(dim=1) == test_set_no_mask_labels).sum().item() / len(test_set_no_mask_labels)"
   ]
  },
  {
   "cell_type": "markdown",
   "metadata": {},
   "source": [
    "### Accuracy on Test Set No Mask after Training"
   ]
  },
  {
   "cell_type": "code",
   "execution_count": 134,
   "metadata": {},
   "outputs": [
    {
     "data": {
      "text/plain": [
       "0.825"
      ]
     },
     "execution_count": 134,
     "metadata": {},
     "output_type": "execute_result"
    }
   ],
   "source": [
    "(model(test_set_mask).argmax(dim=1) == test_set_mask_labels).sum().item() / len(test_set_mask_labels)"
   ]
  }
 ],
 "metadata": {
  "kernelspec": {
   "display_name": "Python 3",
   "language": "python",
   "name": "python3"
  },
  "language_info": {
   "codemirror_mode": {
    "name": "ipython",
    "version": 3
   },
   "file_extension": ".py",
   "mimetype": "text/x-python",
   "name": "python",
   "nbconvert_exporter": "python",
   "pygments_lexer": "ipython3",
   "version": "3.6.6"
  }
 },
 "nbformat": 4,
 "nbformat_minor": 2
}
